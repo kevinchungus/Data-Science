{
 "cells": [
  {
   "cell_type": "markdown",
   "id": "99cec7fb-ccf3-4446-85df-86b97fa03a9f",
   "metadata": {},
   "source": [
    "# Deep learning practice on Student performance dataset (Multi-class)\n",
    "\n",
    "Retrieved from https://www.kaggle.com/datasets/rabieelkharoua/students-performance-dataset/data"
   ]
  },
  {
   "cell_type": "markdown",
   "id": "a276f77d-fbd3-4fa3-b473-0d39995efc46",
   "metadata": {},
   "source": [
    "## Importing libraries"
   ]
  },
  {
   "cell_type": "code",
   "execution_count": 4,
   "id": "df99009e-8434-485c-a0f3-8a69bc25664f",
   "metadata": {},
   "outputs": [],
   "source": [
    "import numpy as np\n",
    "import pandas as pd\n",
    "import tensorflow as tf\n",
    "from tensorflow.keras.models import Sequential\n",
    "from tensorflow.keras.layers import Dense\n",
    "from tensorflow.keras.activations import linear, relu, sigmoid\n",
    "from sklearn.model_selection import train_test_split"
   ]
  },
  {
   "cell_type": "code",
   "execution_count": 5,
   "id": "5af8bdd1-dc53-440f-a8de-77fd0341715e",
   "metadata": {},
   "outputs": [
    {
     "data": {
      "text/html": [
       "<div>\n",
       "<style scoped>\n",
       "    .dataframe tbody tr th:only-of-type {\n",
       "        vertical-align: middle;\n",
       "    }\n",
       "\n",
       "    .dataframe tbody tr th {\n",
       "        vertical-align: top;\n",
       "    }\n",
       "\n",
       "    .dataframe thead th {\n",
       "        text-align: right;\n",
       "    }\n",
       "</style>\n",
       "<table border=\"1\" class=\"dataframe\">\n",
       "  <thead>\n",
       "    <tr style=\"text-align: right;\">\n",
       "      <th></th>\n",
       "      <th>StudentID</th>\n",
       "      <th>Age</th>\n",
       "      <th>Gender</th>\n",
       "      <th>Ethnicity</th>\n",
       "      <th>ParentalEducation</th>\n",
       "      <th>StudyTimeWeekly</th>\n",
       "      <th>Absences</th>\n",
       "      <th>Tutoring</th>\n",
       "      <th>ParentalSupport</th>\n",
       "      <th>Extracurricular</th>\n",
       "      <th>Sports</th>\n",
       "      <th>Music</th>\n",
       "      <th>Volunteering</th>\n",
       "      <th>GPA</th>\n",
       "      <th>GradeClass</th>\n",
       "    </tr>\n",
       "  </thead>\n",
       "  <tbody>\n",
       "    <tr>\n",
       "      <th>0</th>\n",
       "      <td>1001</td>\n",
       "      <td>17</td>\n",
       "      <td>1</td>\n",
       "      <td>0</td>\n",
       "      <td>2</td>\n",
       "      <td>19.833723</td>\n",
       "      <td>7</td>\n",
       "      <td>1</td>\n",
       "      <td>2</td>\n",
       "      <td>0</td>\n",
       "      <td>0</td>\n",
       "      <td>1</td>\n",
       "      <td>0</td>\n",
       "      <td>2.929196</td>\n",
       "      <td>2.0</td>\n",
       "    </tr>\n",
       "    <tr>\n",
       "      <th>1</th>\n",
       "      <td>1002</td>\n",
       "      <td>18</td>\n",
       "      <td>0</td>\n",
       "      <td>0</td>\n",
       "      <td>1</td>\n",
       "      <td>15.408756</td>\n",
       "      <td>0</td>\n",
       "      <td>0</td>\n",
       "      <td>1</td>\n",
       "      <td>0</td>\n",
       "      <td>0</td>\n",
       "      <td>0</td>\n",
       "      <td>0</td>\n",
       "      <td>3.042915</td>\n",
       "      <td>1.0</td>\n",
       "    </tr>\n",
       "    <tr>\n",
       "      <th>2</th>\n",
       "      <td>1003</td>\n",
       "      <td>15</td>\n",
       "      <td>0</td>\n",
       "      <td>2</td>\n",
       "      <td>3</td>\n",
       "      <td>4.210570</td>\n",
       "      <td>26</td>\n",
       "      <td>0</td>\n",
       "      <td>2</td>\n",
       "      <td>0</td>\n",
       "      <td>0</td>\n",
       "      <td>0</td>\n",
       "      <td>0</td>\n",
       "      <td>0.112602</td>\n",
       "      <td>4.0</td>\n",
       "    </tr>\n",
       "    <tr>\n",
       "      <th>3</th>\n",
       "      <td>1004</td>\n",
       "      <td>17</td>\n",
       "      <td>1</td>\n",
       "      <td>0</td>\n",
       "      <td>3</td>\n",
       "      <td>10.028829</td>\n",
       "      <td>14</td>\n",
       "      <td>0</td>\n",
       "      <td>3</td>\n",
       "      <td>1</td>\n",
       "      <td>0</td>\n",
       "      <td>0</td>\n",
       "      <td>0</td>\n",
       "      <td>2.054218</td>\n",
       "      <td>3.0</td>\n",
       "    </tr>\n",
       "    <tr>\n",
       "      <th>4</th>\n",
       "      <td>1005</td>\n",
       "      <td>17</td>\n",
       "      <td>1</td>\n",
       "      <td>0</td>\n",
       "      <td>2</td>\n",
       "      <td>4.672495</td>\n",
       "      <td>17</td>\n",
       "      <td>1</td>\n",
       "      <td>3</td>\n",
       "      <td>0</td>\n",
       "      <td>0</td>\n",
       "      <td>0</td>\n",
       "      <td>0</td>\n",
       "      <td>1.288061</td>\n",
       "      <td>4.0</td>\n",
       "    </tr>\n",
       "  </tbody>\n",
       "</table>\n",
       "</div>"
      ],
      "text/plain": [
       "   StudentID  Age  Gender  Ethnicity  ParentalEducation  StudyTimeWeekly  \\\n",
       "0       1001   17       1          0                  2        19.833723   \n",
       "1       1002   18       0          0                  1        15.408756   \n",
       "2       1003   15       0          2                  3         4.210570   \n",
       "3       1004   17       1          0                  3        10.028829   \n",
       "4       1005   17       1          0                  2         4.672495   \n",
       "\n",
       "   Absences  Tutoring  ParentalSupport  Extracurricular  Sports  Music  \\\n",
       "0         7         1                2                0       0      1   \n",
       "1         0         0                1                0       0      0   \n",
       "2        26         0                2                0       0      0   \n",
       "3        14         0                3                1       0      0   \n",
       "4        17         1                3                0       0      0   \n",
       "\n",
       "   Volunteering       GPA  GradeClass  \n",
       "0             0  2.929196         2.0  \n",
       "1             0  3.042915         1.0  \n",
       "2             0  0.112602         4.0  \n",
       "3             0  2.054218         3.0  \n",
       "4             0  1.288061         4.0  "
      ]
     },
     "execution_count": 5,
     "metadata": {},
     "output_type": "execute_result"
    }
   ],
   "source": [
    "student_perf = pd.read_csv('Student_performance_data.csv')\n",
    "student_perf.head()"
   ]
  },
  {
   "cell_type": "code",
   "execution_count": 6,
   "id": "e81525b4-33f7-4532-86a3-3855c06340a2",
   "metadata": {},
   "outputs": [
    {
     "name": "stdout",
     "output_type": "stream",
     "text": [
      "<class 'pandas.core.frame.DataFrame'>\n",
      "RangeIndex: 2392 entries, 0 to 2391\n",
      "Data columns (total 15 columns):\n",
      " #   Column             Non-Null Count  Dtype  \n",
      "---  ------             --------------  -----  \n",
      " 0   StudentID          2392 non-null   int64  \n",
      " 1   Age                2392 non-null   int64  \n",
      " 2   Gender             2392 non-null   int64  \n",
      " 3   Ethnicity          2392 non-null   int64  \n",
      " 4   ParentalEducation  2392 non-null   int64  \n",
      " 5   StudyTimeWeekly    2392 non-null   float64\n",
      " 6   Absences           2392 non-null   int64  \n",
      " 7   Tutoring           2392 non-null   int64  \n",
      " 8   ParentalSupport    2392 non-null   int64  \n",
      " 9   Extracurricular    2392 non-null   int64  \n",
      " 10  Sports             2392 non-null   int64  \n",
      " 11  Music              2392 non-null   int64  \n",
      " 12  Volunteering       2392 non-null   int64  \n",
      " 13  GPA                2392 non-null   float64\n",
      " 14  GradeClass         2392 non-null   float64\n",
      "dtypes: float64(3), int64(12)\n",
      "memory usage: 280.4 KB\n"
     ]
    }
   ],
   "source": [
    "student_perf.info()"
   ]
  },
  {
   "cell_type": "code",
   "execution_count": 7,
   "id": "f5890c5c-d290-47ea-b99e-8136943ca411",
   "metadata": {},
   "outputs": [
    {
     "name": "stdout",
     "output_type": "stream",
     "text": [
      "<class 'pandas.core.frame.DataFrame'>\n",
      "RangeIndex: 2392 entries, 0 to 2391\n",
      "Data columns (total 14 columns):\n",
      " #   Column             Non-Null Count  Dtype  \n",
      "---  ------             --------------  -----  \n",
      " 0   Age                2392 non-null   int64  \n",
      " 1   Gender             2392 non-null   int64  \n",
      " 2   Ethnicity          2392 non-null   int64  \n",
      " 3   ParentalEducation  2392 non-null   int64  \n",
      " 4   StudyTimeWeekly    2392 non-null   float64\n",
      " 5   Absences           2392 non-null   int64  \n",
      " 6   Tutoring           2392 non-null   int64  \n",
      " 7   ParentalSupport    2392 non-null   int64  \n",
      " 8   Extracurricular    2392 non-null   int64  \n",
      " 9   Sports             2392 non-null   int64  \n",
      " 10  Music              2392 non-null   int64  \n",
      " 11  Volunteering       2392 non-null   int64  \n",
      " 12  GPA                2392 non-null   float64\n",
      " 13  GradeClass         2392 non-null   float64\n",
      "dtypes: float64(3), int64(11)\n",
      "memory usage: 261.8 KB\n"
     ]
    }
   ],
   "source": [
    "# Drop ID column\n",
    "student_perf.drop(['StudentID'], axis=1, inplace=True)\n",
    "student_perf.info()"
   ]
  },
  {
   "cell_type": "code",
   "execution_count": 8,
   "id": "6ec4b0e8-4370-4dc2-8221-532e96dbc720",
   "metadata": {},
   "outputs": [
    {
     "data": {
      "text/plain": [
       "array([2.0, 1.0, 4.0, 3.0, 0.0], dtype=object)"
      ]
     },
     "execution_count": 8,
     "metadata": {},
     "output_type": "execute_result"
    }
   ],
   "source": [
    "# Convert GradeClass from float to object/category\n",
    "student_perf['GradeClass'] = student_perf['GradeClass'].astype('object')\n",
    "student_perf['GradeClass'].unique()"
   ]
  },
  {
   "cell_type": "code",
   "execution_count": 9,
   "id": "d8469dad-0272-4b87-932e-5370ab1f662f",
   "metadata": {},
   "outputs": [
    {
     "name": "stdout",
     "output_type": "stream",
     "text": [
      "First 5 elements of y are [[2.]\n",
      " [1.]\n",
      " [4.]\n",
      " [3.]\n",
      " [4.]] \n",
      "Shape of y is (2392, 1)\n"
     ]
    }
   ],
   "source": [
    "# Assign GradeClass to y, the dependent variable\n",
    "Y = np.asarray(student_perf['GradeClass']).astype('float32').reshape(-1,1)\n",
    "print(f'First 5 elements of y are {Y[:5]} \\nShape of y is {Y.shape}')"
   ]
  },
  {
   "cell_type": "code",
   "execution_count": 10,
   "id": "bf806c5c-678e-4f95-aa8a-251afb0276d6",
   "metadata": {},
   "outputs": [
    {
     "name": "stdout",
     "output_type": "stream",
     "text": [
      "First element of X is [17.        1.        0.        2.       19.833723  7.        1.\n",
      "  2.        0.        0.        1.        0.      ] \n",
      "Shape of X is (2392, 12)\n"
     ]
    }
   ],
   "source": [
    "# Assign other variables to matrix X as features, excluding StudentID and GPA\n",
    "features = ['Age','Gender','Ethnicity','ParentalEducation','StudyTimeWeekly','Absences','Tutoring','ParentalSupport','Extracurricular','Sports','Music','Volunteering']\n",
    "X = np.asarray(student_perf[features]).astype('float32')\n",
    "print(f'First element of X is {X[0]} \\nShape of X is {X.shape}')"
   ]
  },
  {
   "cell_type": "code",
   "execution_count": 11,
   "id": "e259081b-0960-404d-8fe1-1b666a8de067",
   "metadata": {},
   "outputs": [
    {
     "name": "stdout",
     "output_type": "stream",
     "text": [
      "The training set has 1913 entries while the testing set and cross-validation set has 240 entries.\n"
     ]
    }
   ],
   "source": [
    "# Split dataset into training, testing and cross-validation set\n",
    "X_train, X_, Y_train, Y_ = train_test_split(X, Y, test_size=0.2)\n",
    "X_cv, X_test, Y_cv, Y_test = train_test_split(X_, Y_, test_size=0.5)\n",
    "print(f'The training set has {Y_train.shape[0]} entries while the testing set and cross-validation set has {Y_test.shape[0]} entries.')"
   ]
  },
  {
   "cell_type": "markdown",
   "id": "a11ec461-a5a1-45da-b4ec-d796cddc6bfc",
   "metadata": {},
   "source": [
    "## Developing multi-class neural network"
   ]
  },
  {
   "cell_type": "markdown",
   "id": "bb2b5083-f816-4e71-a9be-7abadb6c6a00",
   "metadata": {},
   "source": [
    "### Simple neural network"
   ]
  },
  {
   "cell_type": "code",
   "execution_count": 14,
   "id": "f168c2f8-6444-445e-b809-6adbdc3d8c0b",
   "metadata": {},
   "outputs": [],
   "source": [
    "# Function to calculate accuracy on training and cross-validation sets\n",
    "def train_and_cv_accuracy(model, X_train, Y_train, X_cv, Y_cv):\n",
    "    prediction_array = model.predict(X_train)\n",
    "    prediction_probs = tf.nn.softmax(prediction_array)\n",
    "    prediction_classes = []\n",
    "    for test in prediction_probs:\n",
    "        prediction_classes.append(np.argmax(test))\n",
    "    Yhat = np.asarray(prediction_classes).astype('float32').reshape(-1,1)\n",
    "    train_acc = np.mean(Yhat == Y_train)\n",
    "    \n",
    "    prediction_array = model.predict(X_cv)\n",
    "    prediction_probs = tf.nn.softmax(prediction_array)\n",
    "    prediction_classes = []\n",
    "    for test in prediction_probs:\n",
    "        prediction_classes.append(np.argmax(test))\n",
    "    Yhat = np.asarray(prediction_classes).astype('float32').reshape(-1,1)\n",
    "    cv_acc = np.mean(Yhat == Y_cv)\n",
    "\n",
    "    return pd.DataFrame({'Training accuracy':[train_acc], 'Cross-validation accuracy':[cv_acc]})"
   ]
  },
  {
   "cell_type": "code",
   "execution_count": 15,
   "id": "64b11794-9f37-4228-8d72-b8bcf506534d",
   "metadata": {},
   "outputs": [
    {
     "data": {
      "text/html": [
       "<pre style=\"white-space:pre;overflow-x:auto;line-height:normal;font-family:Menlo,'DejaVu Sans Mono',consolas,'Courier New',monospace\"><span style=\"font-weight: bold\">Model: \"SimpleNN\"</span>\n",
       "</pre>\n"
      ],
      "text/plain": [
       "\u001b[1mModel: \"SimpleNN\"\u001b[0m\n"
      ]
     },
     "metadata": {},
     "output_type": "display_data"
    },
    {
     "data": {
      "text/html": [
       "<pre style=\"white-space:pre;overflow-x:auto;line-height:normal;font-family:Menlo,'DejaVu Sans Mono',consolas,'Courier New',monospace\">┏━━━━━━━━━━━━━━━━━━━━━━━━━━━━━━━━━┳━━━━━━━━━━━━━━━━━━━━━━━━┳━━━━━━━━━━━━━━━┓\n",
       "┃<span style=\"font-weight: bold\"> Layer (type)                    </span>┃<span style=\"font-weight: bold\"> Output Shape           </span>┃<span style=\"font-weight: bold\">       Param # </span>┃\n",
       "┡━━━━━━━━━━━━━━━━━━━━━━━━━━━━━━━━━╇━━━━━━━━━━━━━━━━━━━━━━━━╇━━━━━━━━━━━━━━━┩\n",
       "│ L1 (<span style=\"color: #0087ff; text-decoration-color: #0087ff\">Dense</span>)                      │ (<span style=\"color: #00d7ff; text-decoration-color: #00d7ff\">None</span>, <span style=\"color: #00af00; text-decoration-color: #00af00\">120</span>)            │         <span style=\"color: #00af00; text-decoration-color: #00af00\">1,560</span> │\n",
       "├─────────────────────────────────┼────────────────────────┼───────────────┤\n",
       "│ L2 (<span style=\"color: #0087ff; text-decoration-color: #0087ff\">Dense</span>)                      │ (<span style=\"color: #00d7ff; text-decoration-color: #00d7ff\">None</span>, <span style=\"color: #00af00; text-decoration-color: #00af00\">5</span>)              │           <span style=\"color: #00af00; text-decoration-color: #00af00\">605</span> │\n",
       "└─────────────────────────────────┴────────────────────────┴───────────────┘\n",
       "</pre>\n"
      ],
      "text/plain": [
       "┏━━━━━━━━━━━━━━━━━━━━━━━━━━━━━━━━━┳━━━━━━━━━━━━━━━━━━━━━━━━┳━━━━━━━━━━━━━━━┓\n",
       "┃\u001b[1m \u001b[0m\u001b[1mLayer (type)                   \u001b[0m\u001b[1m \u001b[0m┃\u001b[1m \u001b[0m\u001b[1mOutput Shape          \u001b[0m\u001b[1m \u001b[0m┃\u001b[1m \u001b[0m\u001b[1m      Param #\u001b[0m\u001b[1m \u001b[0m┃\n",
       "┡━━━━━━━━━━━━━━━━━━━━━━━━━━━━━━━━━╇━━━━━━━━━━━━━━━━━━━━━━━━╇━━━━━━━━━━━━━━━┩\n",
       "│ L1 (\u001b[38;5;33mDense\u001b[0m)                      │ (\u001b[38;5;45mNone\u001b[0m, \u001b[38;5;34m120\u001b[0m)            │         \u001b[38;5;34m1,560\u001b[0m │\n",
       "├─────────────────────────────────┼────────────────────────┼───────────────┤\n",
       "│ L2 (\u001b[38;5;33mDense\u001b[0m)                      │ (\u001b[38;5;45mNone\u001b[0m, \u001b[38;5;34m5\u001b[0m)              │           \u001b[38;5;34m605\u001b[0m │\n",
       "└─────────────────────────────────┴────────────────────────┴───────────────┘\n"
      ]
     },
     "metadata": {},
     "output_type": "display_data"
    },
    {
     "data": {
      "text/html": [
       "<pre style=\"white-space:pre;overflow-x:auto;line-height:normal;font-family:Menlo,'DejaVu Sans Mono',consolas,'Courier New',monospace\"><span style=\"font-weight: bold\"> Total params: </span><span style=\"color: #00af00; text-decoration-color: #00af00\">2,165</span> (8.46 KB)\n",
       "</pre>\n"
      ],
      "text/plain": [
       "\u001b[1m Total params: \u001b[0m\u001b[38;5;34m2,165\u001b[0m (8.46 KB)\n"
      ]
     },
     "metadata": {},
     "output_type": "display_data"
    },
    {
     "data": {
      "text/html": [
       "<pre style=\"white-space:pre;overflow-x:auto;line-height:normal;font-family:Menlo,'DejaVu Sans Mono',consolas,'Courier New',monospace\"><span style=\"font-weight: bold\"> Trainable params: </span><span style=\"color: #00af00; text-decoration-color: #00af00\">2,165</span> (8.46 KB)\n",
       "</pre>\n"
      ],
      "text/plain": [
       "\u001b[1m Trainable params: \u001b[0m\u001b[38;5;34m2,165\u001b[0m (8.46 KB)\n"
      ]
     },
     "metadata": {},
     "output_type": "display_data"
    },
    {
     "data": {
      "text/html": [
       "<pre style=\"white-space:pre;overflow-x:auto;line-height:normal;font-family:Menlo,'DejaVu Sans Mono',consolas,'Courier New',monospace\"><span style=\"font-weight: bold\"> Non-trainable params: </span><span style=\"color: #00af00; text-decoration-color: #00af00\">0</span> (0.00 B)\n",
       "</pre>\n"
      ],
      "text/plain": [
       "\u001b[1m Non-trainable params: \u001b[0m\u001b[38;5;34m0\u001b[0m (0.00 B)\n"
      ]
     },
     "metadata": {},
     "output_type": "display_data"
    }
   ],
   "source": [
    "# Simple neural network with 2 layers\n",
    "simple_mc_nn = Sequential(\n",
    "    [\n",
    "    tf.keras.Input(shape = (12,)),\n",
    "    Dense(units=120, activation='relu', name='L1'),\n",
    "    Dense(units=5, activation='linear', name='L2')\n",
    "    ], name='SimpleNN'\n",
    ")\n",
    "simple_mc_nn.summary()"
   ]
  },
  {
   "cell_type": "code",
   "execution_count": 16,
   "id": "a2674882-b88d-46d4-9a2f-05e816788ba2",
   "metadata": {},
   "outputs": [
    {
     "name": "stdout",
     "output_type": "stream",
     "text": [
      "W1 shape is (12, 120), b1 shape is (120,)\n",
      "W2 shape is (120, 5), b2 shape is (5,)\n"
     ]
    }
   ],
   "source": [
    "# Checking dimensions of parameters w and b in each layer\n",
    "layer1, layer2 = simple_mc_nn.layers\n",
    "W1, b1 = layer1.get_weights()\n",
    "W2, b2 = layer2.get_weights()\n",
    "print(f'W1 shape is {W1.shape}, b1 shape is {b1.shape}')\n",
    "print(f'W2 shape is {W2.shape}, b2 shape is {b2.shape}')"
   ]
  },
  {
   "cell_type": "code",
   "execution_count": 17,
   "id": "6095ce17-efd4-4ba8-b98a-4251ad0e0572",
   "metadata": {},
   "outputs": [
    {
     "data": {
      "text/plain": [
       "<keras.src.callbacks.history.History at 0x161ca4510>"
      ]
     },
     "execution_count": 17,
     "metadata": {},
     "output_type": "execute_result"
    }
   ],
   "source": [
    "# Specify loss and fit model to training set\n",
    "simple_mc_nn.compile(\n",
    "    loss = tf.keras.losses.SparseCategoricalCrossentropy(from_logits=True),\n",
    "    optimizer = tf.keras.optimizers.Adam(learning_rate=0.01)\n",
    ")\n",
    "\n",
    "simple_mc_nn.fit(X_train, Y_train, epochs=500, verbose=0)"
   ]
  },
  {
   "cell_type": "code",
   "execution_count": 18,
   "id": "3be5ced2-2e2d-43c3-ab40-25145b6e583e",
   "metadata": {},
   "outputs": [
    {
     "name": "stdout",
     "output_type": "stream",
     "text": [
      "\u001b[1m60/60\u001b[0m \u001b[32m━━━━━━━━━━━━━━━━━━━━\u001b[0m\u001b[37m\u001b[0m \u001b[1m0s\u001b[0m 472us/step\n",
      "\u001b[1m8/8\u001b[0m \u001b[32m━━━━━━━━━━━━━━━━━━━━\u001b[0m\u001b[37m\u001b[0m \u001b[1m0s\u001b[0m 444us/step\n",
      "Simple neural network \n",
      "Training accuracy: 0.841, Cross-validation accuracy: 0.720\n"
     ]
    }
   ],
   "source": [
    "# Make predictions on training, cv and testing set\n",
    "accs = train_and_cv_accuracy(simple_mc_nn, X_train, Y_train, X_cv, Y_cv)\n",
    "print(f'Simple neural network \\nTraining accuracy: {accs[\"Training accuracy\"][0]:0.3f}, Cross-validation accuracy: {accs[\"Cross-validation accuracy\"][0]:0.3f}')"
   ]
  },
  {
   "cell_type": "code",
   "execution_count": 19,
   "id": "c14a637c-806a-4d59-9881-4d2afd91e08b",
   "metadata": {},
   "outputs": [
    {
     "data": {
      "text/plain": [
       "<keras.src.callbacks.history.History at 0x16444f090>"
      ]
     },
     "execution_count": 19,
     "metadata": {},
     "output_type": "execute_result"
    }
   ],
   "source": [
    "# Add some regularization effect to reduce over-fitting\n",
    "simple_mc_nn_R = Sequential(\n",
    "    [\n",
    "    tf.keras.Input(shape = (12,)),\n",
    "    Dense(units=120, activation='relu', kernel_regularizer=tf.keras.regularizers.l2(0.1), name='L1'),\n",
    "    Dense(units=5, activation='linear', name='L2')\n",
    "    ], name='RegularizedSimpleNN'\n",
    ")\n",
    "\n",
    "simple_mc_nn_R.compile(\n",
    "    loss = tf.keras.losses.SparseCategoricalCrossentropy(from_logits=True),\n",
    "    optimizer = tf.keras.optimizers.Adam(learning_rate=0.01)\n",
    ")\n",
    "\n",
    "simple_mc_nn_R.fit(X_train, Y_train, epochs=500, verbose=0)"
   ]
  },
  {
   "cell_type": "code",
   "execution_count": 20,
   "id": "b499cbba-86ce-41e9-8d35-63b1124a1bd0",
   "metadata": {},
   "outputs": [
    {
     "name": "stdout",
     "output_type": "stream",
     "text": [
      "\u001b[1m60/60\u001b[0m \u001b[32m━━━━━━━━━━━━━━━━━━━━\u001b[0m\u001b[37m\u001b[0m \u001b[1m0s\u001b[0m 532us/step\n",
      "\u001b[1m8/8\u001b[0m \u001b[32m━━━━━━━━━━━━━━━━━━━━\u001b[0m\u001b[37m\u001b[0m \u001b[1m0s\u001b[0m 414us/step\n",
      "Regularized Simple neural network \n",
      "Training accuracy: 0.749, Cross-validation accuracy: 0.757\n"
     ]
    }
   ],
   "source": [
    "accs = train_and_cv_accuracy(simple_mc_nn_R, X_train, Y_train, X_cv, Y_cv)\n",
    "print(f'Regularized Simple neural network \\nTraining accuracy: {accs[\"Training accuracy\"][0]:0.3f}, Cross-validation accuracy: {accs[\"Cross-validation accuracy\"][0]:0.3f}')"
   ]
  },
  {
   "cell_type": "code",
   "execution_count": 21,
   "id": "7331d4b4-cd08-4e42-a786-f46f118414db",
   "metadata": {},
   "outputs": [
    {
     "name": "stdout",
     "output_type": "stream",
     "text": [
      "\u001b[1m60/60\u001b[0m \u001b[32m━━━━━━━━━━━━━━━━━━━━\u001b[0m\u001b[37m\u001b[0m \u001b[1m0s\u001b[0m 490us/step\n",
      "\u001b[1m8/8\u001b[0m \u001b[32m━━━━━━━━━━━━━━━━━━━━\u001b[0m\u001b[37m\u001b[0m \u001b[1m0s\u001b[0m 618us/step\n",
      "\u001b[1m60/60\u001b[0m \u001b[32m━━━━━━━━━━━━━━━━━━━━\u001b[0m\u001b[37m\u001b[0m \u001b[1m0s\u001b[0m 445us/step\n",
      "\u001b[1m8/8\u001b[0m \u001b[32m━━━━━━━━━━━━━━━━━━━━\u001b[0m\u001b[37m\u001b[0m \u001b[1m0s\u001b[0m 412us/step\n",
      "\u001b[1m60/60\u001b[0m \u001b[32m━━━━━━━━━━━━━━━━━━━━\u001b[0m\u001b[37m\u001b[0m \u001b[1m0s\u001b[0m 438us/step\n",
      "\u001b[1m8/8\u001b[0m \u001b[32m━━━━━━━━━━━━━━━━━━━━\u001b[0m\u001b[37m\u001b[0m \u001b[1m0s\u001b[0m 387us/step\n",
      "Best regularization lambda is 0.001 with cross-validation accuracy of 0.774\n"
     ]
    }
   ],
   "source": [
    "# Iterate to explore different regularization values\n",
    "lambdas = [0.001, 0.01, 0.05]\n",
    "models=[None] * len(lambdas)\n",
    "best_lambda = 0\n",
    "best_cv_acc = 0\n",
    "\n",
    "for i in range(len(lambdas)):\n",
    "    lambda_ = lambdas[i]\n",
    "    models[i] =  Sequential(\n",
    "        [\n",
    "            Dense(120, activation = 'relu', kernel_regularizer=tf.keras.regularizers.l2(lambda_)),\n",
    "            Dense(5, activation = 'linear')\n",
    "        ]\n",
    "    )\n",
    "    \n",
    "    models[i].compile(\n",
    "        loss=tf.keras.losses.SparseCategoricalCrossentropy(from_logits=True),\n",
    "        optimizer=tf.keras.optimizers.Adam(0.01),\n",
    "    )\n",
    "\n",
    "    models[i].fit(X_train, Y_train, epochs=500, verbose=0)\n",
    "    accs = train_and_cv_accuracy(models[i], X_train, Y_train, X_cv, Y_cv)\n",
    "    if accs['Cross-validation accuracy'][0] > best_cv_acc:\n",
    "        best_lambda = lambda_\n",
    "        best_cv_acc = np.round(accs['Cross-validation accuracy'][0],3)\n",
    "\n",
    "print(f'Best regularization lambda is {best_lambda} with cross-validation accuracy of {best_cv_acc}')"
   ]
  },
  {
   "cell_type": "markdown",
   "id": "5dd0d559-5760-4daf-b51b-b2febc63c2a9",
   "metadata": {},
   "source": [
    "# Deep learning practice on Alzheimers Diseases dataset (Binary)\n",
    "\n",
    "Retrieved from https://www.kaggle.com/datasets/rabieelkharoua/alzheimers-disease-dataset?select=alzheimers_disease_data.csv"
   ]
  },
  {
   "cell_type": "code",
   "execution_count": 23,
   "id": "df6646ea-6508-452a-bafc-2c17ea8ed142",
   "metadata": {},
   "outputs": [
    {
     "data": {
      "text/html": [
       "<div>\n",
       "<style scoped>\n",
       "    .dataframe tbody tr th:only-of-type {\n",
       "        vertical-align: middle;\n",
       "    }\n",
       "\n",
       "    .dataframe tbody tr th {\n",
       "        vertical-align: top;\n",
       "    }\n",
       "\n",
       "    .dataframe thead th {\n",
       "        text-align: right;\n",
       "    }\n",
       "</style>\n",
       "<table border=\"1\" class=\"dataframe\">\n",
       "  <thead>\n",
       "    <tr style=\"text-align: right;\">\n",
       "      <th></th>\n",
       "      <th>PatientID</th>\n",
       "      <th>Age</th>\n",
       "      <th>Gender</th>\n",
       "      <th>Ethnicity</th>\n",
       "      <th>EducationLevel</th>\n",
       "      <th>BMI</th>\n",
       "      <th>Smoking</th>\n",
       "      <th>AlcoholConsumption</th>\n",
       "      <th>PhysicalActivity</th>\n",
       "      <th>DietQuality</th>\n",
       "      <th>...</th>\n",
       "      <th>MemoryComplaints</th>\n",
       "      <th>BehavioralProblems</th>\n",
       "      <th>ADL</th>\n",
       "      <th>Confusion</th>\n",
       "      <th>Disorientation</th>\n",
       "      <th>PersonalityChanges</th>\n",
       "      <th>DifficultyCompletingTasks</th>\n",
       "      <th>Forgetfulness</th>\n",
       "      <th>Diagnosis</th>\n",
       "      <th>DoctorInCharge</th>\n",
       "    </tr>\n",
       "  </thead>\n",
       "  <tbody>\n",
       "    <tr>\n",
       "      <th>0</th>\n",
       "      <td>4751</td>\n",
       "      <td>73</td>\n",
       "      <td>0</td>\n",
       "      <td>0</td>\n",
       "      <td>2</td>\n",
       "      <td>22.927749</td>\n",
       "      <td>0</td>\n",
       "      <td>13.297218</td>\n",
       "      <td>6.327112</td>\n",
       "      <td>1.347214</td>\n",
       "      <td>...</td>\n",
       "      <td>0</td>\n",
       "      <td>0</td>\n",
       "      <td>1.725883</td>\n",
       "      <td>0</td>\n",
       "      <td>0</td>\n",
       "      <td>0</td>\n",
       "      <td>1</td>\n",
       "      <td>0</td>\n",
       "      <td>0</td>\n",
       "      <td>XXXConfid</td>\n",
       "    </tr>\n",
       "    <tr>\n",
       "      <th>1</th>\n",
       "      <td>4752</td>\n",
       "      <td>89</td>\n",
       "      <td>0</td>\n",
       "      <td>0</td>\n",
       "      <td>0</td>\n",
       "      <td>26.827681</td>\n",
       "      <td>0</td>\n",
       "      <td>4.542524</td>\n",
       "      <td>7.619885</td>\n",
       "      <td>0.518767</td>\n",
       "      <td>...</td>\n",
       "      <td>0</td>\n",
       "      <td>0</td>\n",
       "      <td>2.592424</td>\n",
       "      <td>0</td>\n",
       "      <td>0</td>\n",
       "      <td>0</td>\n",
       "      <td>0</td>\n",
       "      <td>1</td>\n",
       "      <td>0</td>\n",
       "      <td>XXXConfid</td>\n",
       "    </tr>\n",
       "    <tr>\n",
       "      <th>2</th>\n",
       "      <td>4753</td>\n",
       "      <td>73</td>\n",
       "      <td>0</td>\n",
       "      <td>3</td>\n",
       "      <td>1</td>\n",
       "      <td>17.795882</td>\n",
       "      <td>0</td>\n",
       "      <td>19.555085</td>\n",
       "      <td>7.844988</td>\n",
       "      <td>1.826335</td>\n",
       "      <td>...</td>\n",
       "      <td>0</td>\n",
       "      <td>0</td>\n",
       "      <td>7.119548</td>\n",
       "      <td>0</td>\n",
       "      <td>1</td>\n",
       "      <td>0</td>\n",
       "      <td>1</td>\n",
       "      <td>0</td>\n",
       "      <td>0</td>\n",
       "      <td>XXXConfid</td>\n",
       "    </tr>\n",
       "    <tr>\n",
       "      <th>3</th>\n",
       "      <td>4754</td>\n",
       "      <td>74</td>\n",
       "      <td>1</td>\n",
       "      <td>0</td>\n",
       "      <td>1</td>\n",
       "      <td>33.800817</td>\n",
       "      <td>1</td>\n",
       "      <td>12.209266</td>\n",
       "      <td>8.428001</td>\n",
       "      <td>7.435604</td>\n",
       "      <td>...</td>\n",
       "      <td>0</td>\n",
       "      <td>1</td>\n",
       "      <td>6.481226</td>\n",
       "      <td>0</td>\n",
       "      <td>0</td>\n",
       "      <td>0</td>\n",
       "      <td>0</td>\n",
       "      <td>0</td>\n",
       "      <td>0</td>\n",
       "      <td>XXXConfid</td>\n",
       "    </tr>\n",
       "    <tr>\n",
       "      <th>4</th>\n",
       "      <td>4755</td>\n",
       "      <td>89</td>\n",
       "      <td>0</td>\n",
       "      <td>0</td>\n",
       "      <td>0</td>\n",
       "      <td>20.716974</td>\n",
       "      <td>0</td>\n",
       "      <td>18.454356</td>\n",
       "      <td>6.310461</td>\n",
       "      <td>0.795498</td>\n",
       "      <td>...</td>\n",
       "      <td>0</td>\n",
       "      <td>0</td>\n",
       "      <td>0.014691</td>\n",
       "      <td>0</td>\n",
       "      <td>0</td>\n",
       "      <td>1</td>\n",
       "      <td>1</td>\n",
       "      <td>0</td>\n",
       "      <td>0</td>\n",
       "      <td>XXXConfid</td>\n",
       "    </tr>\n",
       "  </tbody>\n",
       "</table>\n",
       "<p>5 rows × 35 columns</p>\n",
       "</div>"
      ],
      "text/plain": [
       "   PatientID  Age  Gender  Ethnicity  EducationLevel        BMI  Smoking  \\\n",
       "0       4751   73       0          0               2  22.927749        0   \n",
       "1       4752   89       0          0               0  26.827681        0   \n",
       "2       4753   73       0          3               1  17.795882        0   \n",
       "3       4754   74       1          0               1  33.800817        1   \n",
       "4       4755   89       0          0               0  20.716974        0   \n",
       "\n",
       "   AlcoholConsumption  PhysicalActivity  DietQuality  ...  MemoryComplaints  \\\n",
       "0           13.297218          6.327112     1.347214  ...                 0   \n",
       "1            4.542524          7.619885     0.518767  ...                 0   \n",
       "2           19.555085          7.844988     1.826335  ...                 0   \n",
       "3           12.209266          8.428001     7.435604  ...                 0   \n",
       "4           18.454356          6.310461     0.795498  ...                 0   \n",
       "\n",
       "   BehavioralProblems       ADL  Confusion  Disorientation  \\\n",
       "0                   0  1.725883          0               0   \n",
       "1                   0  2.592424          0               0   \n",
       "2                   0  7.119548          0               1   \n",
       "3                   1  6.481226          0               0   \n",
       "4                   0  0.014691          0               0   \n",
       "\n",
       "   PersonalityChanges  DifficultyCompletingTasks  Forgetfulness  Diagnosis  \\\n",
       "0                   0                          1              0          0   \n",
       "1                   0                          0              1          0   \n",
       "2                   0                          1              0          0   \n",
       "3                   0                          0              0          0   \n",
       "4                   1                          1              0          0   \n",
       "\n",
       "   DoctorInCharge  \n",
       "0       XXXConfid  \n",
       "1       XXXConfid  \n",
       "2       XXXConfid  \n",
       "3       XXXConfid  \n",
       "4       XXXConfid  \n",
       "\n",
       "[5 rows x 35 columns]"
      ]
     },
     "execution_count": 23,
     "metadata": {},
     "output_type": "execute_result"
    }
   ],
   "source": [
    "alz_d = pd.read_csv('alzheimers_disease_data.csv')\n",
    "alz_d.head()"
   ]
  },
  {
   "cell_type": "code",
   "execution_count": 24,
   "id": "afd20bb1-c93a-476f-80e9-95eadb3bccbc",
   "metadata": {},
   "outputs": [
    {
     "name": "stdout",
     "output_type": "stream",
     "text": [
      "<class 'pandas.core.frame.DataFrame'>\n",
      "RangeIndex: 2149 entries, 0 to 2148\n",
      "Data columns (total 35 columns):\n",
      " #   Column                     Non-Null Count  Dtype  \n",
      "---  ------                     --------------  -----  \n",
      " 0   PatientID                  2149 non-null   int64  \n",
      " 1   Age                        2149 non-null   int64  \n",
      " 2   Gender                     2149 non-null   int64  \n",
      " 3   Ethnicity                  2149 non-null   int64  \n",
      " 4   EducationLevel             2149 non-null   int64  \n",
      " 5   BMI                        2149 non-null   float64\n",
      " 6   Smoking                    2149 non-null   int64  \n",
      " 7   AlcoholConsumption         2149 non-null   float64\n",
      " 8   PhysicalActivity           2149 non-null   float64\n",
      " 9   DietQuality                2149 non-null   float64\n",
      " 10  SleepQuality               2149 non-null   float64\n",
      " 11  FamilyHistoryAlzheimers    2149 non-null   int64  \n",
      " 12  CardiovascularDisease      2149 non-null   int64  \n",
      " 13  Diabetes                   2149 non-null   int64  \n",
      " 14  Depression                 2149 non-null   int64  \n",
      " 15  HeadInjury                 2149 non-null   int64  \n",
      " 16  Hypertension               2149 non-null   int64  \n",
      " 17  SystolicBP                 2149 non-null   int64  \n",
      " 18  DiastolicBP                2149 non-null   int64  \n",
      " 19  CholesterolTotal           2149 non-null   float64\n",
      " 20  CholesterolLDL             2149 non-null   float64\n",
      " 21  CholesterolHDL             2149 non-null   float64\n",
      " 22  CholesterolTriglycerides   2149 non-null   float64\n",
      " 23  MMSE                       2149 non-null   float64\n",
      " 24  FunctionalAssessment       2149 non-null   float64\n",
      " 25  MemoryComplaints           2149 non-null   int64  \n",
      " 26  BehavioralProblems         2149 non-null   int64  \n",
      " 27  ADL                        2149 non-null   float64\n",
      " 28  Confusion                  2149 non-null   int64  \n",
      " 29  Disorientation             2149 non-null   int64  \n",
      " 30  PersonalityChanges         2149 non-null   int64  \n",
      " 31  DifficultyCompletingTasks  2149 non-null   int64  \n",
      " 32  Forgetfulness              2149 non-null   int64  \n",
      " 33  Diagnosis                  2149 non-null   int64  \n",
      " 34  DoctorInCharge             2149 non-null   object \n",
      "dtypes: float64(12), int64(22), object(1)\n",
      "memory usage: 587.7+ KB\n"
     ]
    }
   ],
   "source": [
    "alz_d.info()"
   ]
  },
  {
   "cell_type": "code",
   "execution_count": 25,
   "id": "3ff7b338-8267-45f5-b450-2f9ad3e38115",
   "metadata": {},
   "outputs": [
    {
     "name": "stdout",
     "output_type": "stream",
     "text": [
      "<class 'pandas.core.frame.DataFrame'>\n",
      "RangeIndex: 2149 entries, 0 to 2148\n",
      "Data columns (total 33 columns):\n",
      " #   Column                     Non-Null Count  Dtype  \n",
      "---  ------                     --------------  -----  \n",
      " 0   Age                        2149 non-null   int64  \n",
      " 1   Gender                     2149 non-null   int64  \n",
      " 2   Ethnicity                  2149 non-null   int64  \n",
      " 3   EducationLevel             2149 non-null   int64  \n",
      " 4   BMI                        2149 non-null   float64\n",
      " 5   Smoking                    2149 non-null   int64  \n",
      " 6   AlcoholConsumption         2149 non-null   float64\n",
      " 7   PhysicalActivity           2149 non-null   float64\n",
      " 8   DietQuality                2149 non-null   float64\n",
      " 9   SleepQuality               2149 non-null   float64\n",
      " 10  FamilyHistoryAlzheimers    2149 non-null   int64  \n",
      " 11  CardiovascularDisease      2149 non-null   int64  \n",
      " 12  Diabetes                   2149 non-null   int64  \n",
      " 13  Depression                 2149 non-null   int64  \n",
      " 14  HeadInjury                 2149 non-null   int64  \n",
      " 15  Hypertension               2149 non-null   int64  \n",
      " 16  SystolicBP                 2149 non-null   int64  \n",
      " 17  DiastolicBP                2149 non-null   int64  \n",
      " 18  CholesterolTotal           2149 non-null   float64\n",
      " 19  CholesterolLDL             2149 non-null   float64\n",
      " 20  CholesterolHDL             2149 non-null   float64\n",
      " 21  CholesterolTriglycerides   2149 non-null   float64\n",
      " 22  MMSE                       2149 non-null   float64\n",
      " 23  FunctionalAssessment       2149 non-null   float64\n",
      " 24  MemoryComplaints           2149 non-null   int64  \n",
      " 25  BehavioralProblems         2149 non-null   int64  \n",
      " 26  ADL                        2149 non-null   float64\n",
      " 27  Confusion                  2149 non-null   int64  \n",
      " 28  Disorientation             2149 non-null   int64  \n",
      " 29  PersonalityChanges         2149 non-null   int64  \n",
      " 30  DifficultyCompletingTasks  2149 non-null   int64  \n",
      " 31  Forgetfulness              2149 non-null   int64  \n",
      " 32  Diagnosis                  2149 non-null   int64  \n",
      "dtypes: float64(12), int64(21)\n",
      "memory usage: 554.2 KB\n"
     ]
    }
   ],
   "source": [
    "alz_d.drop(['PatientID','DoctorInCharge'], axis=1, inplace=True)\n",
    "alz_d.info()"
   ]
  },
  {
   "cell_type": "code",
   "execution_count": 26,
   "id": "fdea3501-b7d8-497e-8758-d3db500c1969",
   "metadata": {},
   "outputs": [],
   "source": [
    "# Function for Z normalization for continuous variables\n",
    "def z_norms(var_name):\n",
    "    values = np.asarray(alz_d[var_name])\n",
    "    mu, sigma = np.mean(values), np.std(values)\n",
    "    values = (values - mu) / sigma\n",
    "    alz_d[var_name] = values\n",
    "    return None"
   ]
  },
  {
   "cell_type": "code",
   "execution_count": 27,
   "id": "bb3c7785-f448-4861-82da-586739016b57",
   "metadata": {},
   "outputs": [
    {
     "data": {
      "text/html": [
       "<div>\n",
       "<style scoped>\n",
       "    .dataframe tbody tr th:only-of-type {\n",
       "        vertical-align: middle;\n",
       "    }\n",
       "\n",
       "    .dataframe tbody tr th {\n",
       "        vertical-align: top;\n",
       "    }\n",
       "\n",
       "    .dataframe thead th {\n",
       "        text-align: right;\n",
       "    }\n",
       "</style>\n",
       "<table border=\"1\" class=\"dataframe\">\n",
       "  <thead>\n",
       "    <tr style=\"text-align: right;\">\n",
       "      <th></th>\n",
       "      <th>Age</th>\n",
       "      <th>Gender</th>\n",
       "      <th>Ethnicity</th>\n",
       "      <th>EducationLevel</th>\n",
       "      <th>BMI</th>\n",
       "      <th>Smoking</th>\n",
       "      <th>AlcoholConsumption</th>\n",
       "      <th>PhysicalActivity</th>\n",
       "      <th>DietQuality</th>\n",
       "      <th>SleepQuality</th>\n",
       "      <th>...</th>\n",
       "      <th>FunctionalAssessment</th>\n",
       "      <th>MemoryComplaints</th>\n",
       "      <th>BehavioralProblems</th>\n",
       "      <th>ADL</th>\n",
       "      <th>Confusion</th>\n",
       "      <th>Disorientation</th>\n",
       "      <th>PersonalityChanges</th>\n",
       "      <th>DifficultyCompletingTasks</th>\n",
       "      <th>Forgetfulness</th>\n",
       "      <th>Diagnosis</th>\n",
       "    </tr>\n",
       "  </thead>\n",
       "  <tbody>\n",
       "    <tr>\n",
       "      <th>0</th>\n",
       "      <td>-0.212368</td>\n",
       "      <td>0</td>\n",
       "      <td>0</td>\n",
       "      <td>2</td>\n",
       "      <td>-0.655225</td>\n",
       "      <td>0</td>\n",
       "      <td>0.565923</td>\n",
       "      <td>0.492525</td>\n",
       "      <td>-1.253593</td>\n",
       "      <td>1.119918</td>\n",
       "      <td>...</td>\n",
       "      <td>0.497506</td>\n",
       "      <td>0</td>\n",
       "      <td>0</td>\n",
       "      <td>-1.104434</td>\n",
       "      <td>0</td>\n",
       "      <td>0</td>\n",
       "      <td>0</td>\n",
       "      <td>1</td>\n",
       "      <td>0</td>\n",
       "      <td>0</td>\n",
       "    </tr>\n",
       "    <tr>\n",
       "      <th>1</th>\n",
       "      <td>1.567757</td>\n",
       "      <td>0</td>\n",
       "      <td>0</td>\n",
       "      <td>0</td>\n",
       "      <td>-0.114751</td>\n",
       "      <td>0</td>\n",
       "      <td>-0.954895</td>\n",
       "      <td>0.945093</td>\n",
       "      <td>-1.538442</td>\n",
       "      <td>0.056836</td>\n",
       "      <td>...</td>\n",
       "      <td>0.704907</td>\n",
       "      <td>0</td>\n",
       "      <td>0</td>\n",
       "      <td>-0.810601</td>\n",
       "      <td>0</td>\n",
       "      <td>0</td>\n",
       "      <td>0</td>\n",
       "      <td>0</td>\n",
       "      <td>1</td>\n",
       "      <td>0</td>\n",
       "    </tr>\n",
       "    <tr>\n",
       "      <th>2</th>\n",
       "      <td>-0.212368</td>\n",
       "      <td>0</td>\n",
       "      <td>3</td>\n",
       "      <td>1</td>\n",
       "      <td>-1.366428</td>\n",
       "      <td>0</td>\n",
       "      <td>1.653006</td>\n",
       "      <td>1.023896</td>\n",
       "      <td>-1.088855</td>\n",
       "      <td>1.487380</td>\n",
       "      <td>...</td>\n",
       "      <td>0.281813</td>\n",
       "      <td>0</td>\n",
       "      <td>0</td>\n",
       "      <td>0.724491</td>\n",
       "      <td>0</td>\n",
       "      <td>1</td>\n",
       "      <td>0</td>\n",
       "      <td>1</td>\n",
       "      <td>0</td>\n",
       "      <td>0</td>\n",
       "    </tr>\n",
       "    <tr>\n",
       "      <th>3</th>\n",
       "      <td>-0.101111</td>\n",
       "      <td>1</td>\n",
       "      <td>0</td>\n",
       "      <td>1</td>\n",
       "      <td>0.851625</td>\n",
       "      <td>1</td>\n",
       "      <td>0.376930</td>\n",
       "      <td>1.227995</td>\n",
       "      <td>0.839804</td>\n",
       "      <td>0.760833</td>\n",
       "      <td>...</td>\n",
       "      <td>1.343346</td>\n",
       "      <td>0</td>\n",
       "      <td>1</td>\n",
       "      <td>0.508044</td>\n",
       "      <td>0</td>\n",
       "      <td>0</td>\n",
       "      <td>0</td>\n",
       "      <td>0</td>\n",
       "      <td>0</td>\n",
       "      <td>0</td>\n",
       "    </tr>\n",
       "    <tr>\n",
       "      <th>4</th>\n",
       "      <td>1.567757</td>\n",
       "      <td>0</td>\n",
       "      <td>0</td>\n",
       "      <td>0</td>\n",
       "      <td>-0.961607</td>\n",
       "      <td>0</td>\n",
       "      <td>1.461793</td>\n",
       "      <td>0.486696</td>\n",
       "      <td>-1.443293</td>\n",
       "      <td>-0.824566</td>\n",
       "      <td>...</td>\n",
       "      <td>0.333665</td>\n",
       "      <td>0</td>\n",
       "      <td>0</td>\n",
       "      <td>-1.684679</td>\n",
       "      <td>0</td>\n",
       "      <td>0</td>\n",
       "      <td>1</td>\n",
       "      <td>1</td>\n",
       "      <td>0</td>\n",
       "      <td>0</td>\n",
       "    </tr>\n",
       "  </tbody>\n",
       "</table>\n",
       "<p>5 rows × 33 columns</p>\n",
       "</div>"
      ],
      "text/plain": [
       "        Age  Gender  Ethnicity  EducationLevel       BMI  Smoking  \\\n",
       "0 -0.212368       0          0               2 -0.655225        0   \n",
       "1  1.567757       0          0               0 -0.114751        0   \n",
       "2 -0.212368       0          3               1 -1.366428        0   \n",
       "3 -0.101111       1          0               1  0.851625        1   \n",
       "4  1.567757       0          0               0 -0.961607        0   \n",
       "\n",
       "   AlcoholConsumption  PhysicalActivity  DietQuality  SleepQuality  ...  \\\n",
       "0            0.565923          0.492525    -1.253593      1.119918  ...   \n",
       "1           -0.954895          0.945093    -1.538442      0.056836  ...   \n",
       "2            1.653006          1.023896    -1.088855      1.487380  ...   \n",
       "3            0.376930          1.227995     0.839804      0.760833  ...   \n",
       "4            1.461793          0.486696    -1.443293     -0.824566  ...   \n",
       "\n",
       "   FunctionalAssessment  MemoryComplaints  BehavioralProblems       ADL  \\\n",
       "0              0.497506                 0                   0 -1.104434   \n",
       "1              0.704907                 0                   0 -0.810601   \n",
       "2              0.281813                 0                   0  0.724491   \n",
       "3              1.343346                 0                   1  0.508044   \n",
       "4              0.333665                 0                   0 -1.684679   \n",
       "\n",
       "   Confusion  Disorientation  PersonalityChanges  DifficultyCompletingTasks  \\\n",
       "0          0               0                   0                          1   \n",
       "1          0               0                   0                          0   \n",
       "2          0               1                   0                          1   \n",
       "3          0               0                   0                          0   \n",
       "4          0               0                   1                          1   \n",
       "\n",
       "   Forgetfulness  Diagnosis  \n",
       "0              0          0  \n",
       "1              1          0  \n",
       "2              0          0  \n",
       "3              0          0  \n",
       "4              0          0  \n",
       "\n",
       "[5 rows x 33 columns]"
      ]
     },
     "execution_count": 27,
     "metadata": {},
     "output_type": "execute_result"
    }
   ],
   "source": [
    "# Normalization for continuous variables\n",
    "cont_vars = ['Age','BMI','AlcoholConsumption','PhysicalActivity','DietQuality','SleepQuality','SystolicBP','DiastolicBP',\n",
    "             'CholesterolTotal','CholesterolLDL','CholesterolHDL','CholesterolTriglycerides','MMSE','FunctionalAssessment','ADL']\n",
    "for var in cont_vars:\n",
    "    z_norms(var)\n",
    "\n",
    "alz_d.head()"
   ]
  },
  {
   "cell_type": "code",
   "execution_count": 28,
   "id": "94936ea4-b14c-4bdb-a280-04e9228689fe",
   "metadata": {},
   "outputs": [
    {
     "data": {
      "text/plain": [
       "array([0, 1], dtype=object)"
      ]
     },
     "execution_count": 28,
     "metadata": {},
     "output_type": "execute_result"
    }
   ],
   "source": [
    "# Convert Diagnosis into categorical variable\n",
    "alz_d['Diagnosis'] = alz_d['Diagnosis'].astype('object')\n",
    "alz_d['Diagnosis'].unique()"
   ]
  },
  {
   "cell_type": "code",
   "execution_count": 29,
   "id": "c95be647-b40e-4852-8051-16791bec10ba",
   "metadata": {},
   "outputs": [
    {
     "name": "stdout",
     "output_type": "stream",
     "text": [
      "First 5 elements of y are [[0.]\n",
      " [0.]\n",
      " [0.]\n",
      " [0.]\n",
      " [0.]] \n",
      "Shape of y is (2149, 1)\n"
     ]
    }
   ],
   "source": [
    "# Assign Diagnosis to dependent variable\n",
    "Y = np.asarray(alz_d['Diagnosis']).astype('float32').reshape(-1,1)\n",
    "print(f'First 5 elements of y are {Y[:5]} \\nShape of y is {Y.shape}')"
   ]
  },
  {
   "cell_type": "code",
   "execution_count": 30,
   "id": "8a03651e-c484-413e-952f-c47923777dc7",
   "metadata": {},
   "outputs": [
    {
     "name": "stdout",
     "output_type": "stream",
     "text": [
      "First element of X is [-0.21236841  0.          0.          2.         -0.65522534  0.\n",
      "  0.5659231   0.4925249  -1.2535934   1.1199181   0.          0.\n",
      "  1.          1.          0.          0.          0.29815874 -1.0147502\n",
      "  0.4036769  -1.5726606  -1.1144291  -0.64819944  0.7790368   0.49750587\n",
      "  0.          0.         -1.1044345   0.          0.          0.\n",
      "  1.          0.        ] \n",
      "Shape of X is (2149, 32)\n"
     ]
    }
   ],
   "source": [
    "# Assign other variables to matrix X as features, excluding StudentID and GPA\n",
    "X = alz_d.drop(['Diagnosis'], axis=1)\n",
    "X = np.asarray(X).astype('float32')\n",
    "print(f'First element of X is {X[0]} \\nShape of X is {X.shape}')"
   ]
  },
  {
   "cell_type": "code",
   "execution_count": 31,
   "id": "64751f67-6e0b-44dc-8883-7d70d0369aa3",
   "metadata": {},
   "outputs": [
    {
     "name": "stdout",
     "output_type": "stream",
     "text": [
      "The training set has 1719 entries while the testing set and cross-validation set has 215 entries.\n"
     ]
    }
   ],
   "source": [
    "# Split dataset into training, testing and cross-validation set\n",
    "X_train, X_, Y_train, Y_ = train_test_split(X, Y, test_size=0.2)\n",
    "X_cv, X_test, Y_cv, Y_test = train_test_split(X_, Y_, test_size=0.5)\n",
    "print(f'The training set has {Y_train.shape[0]} entries while the testing set and cross-validation set has {Y_test.shape[0]} entries.')"
   ]
  },
  {
   "cell_type": "markdown",
   "id": "db594d37-a5dc-414c-b6ee-23711e99398b",
   "metadata": {},
   "source": [
    "# Slightly complex neural network"
   ]
  },
  {
   "cell_type": "code",
   "execution_count": 33,
   "id": "a613f105-8df2-4c44-b287-f7bf31ec79c5",
   "metadata": {},
   "outputs": [
    {
     "data": {
      "text/html": [
       "<pre style=\"white-space:pre;overflow-x:auto;line-height:normal;font-family:Menlo,'DejaVu Sans Mono',consolas,'Courier New',monospace\"><span style=\"font-weight: bold\">Model: \"ComplexNN\"</span>\n",
       "</pre>\n"
      ],
      "text/plain": [
       "\u001b[1mModel: \"ComplexNN\"\u001b[0m\n"
      ]
     },
     "metadata": {},
     "output_type": "display_data"
    },
    {
     "data": {
      "text/html": [
       "<pre style=\"white-space:pre;overflow-x:auto;line-height:normal;font-family:Menlo,'DejaVu Sans Mono',consolas,'Courier New',monospace\">┏━━━━━━━━━━━━━━━━━━━━━━━━━━━━━━━━━┳━━━━━━━━━━━━━━━━━━━━━━━━┳━━━━━━━━━━━━━━━┓\n",
       "┃<span style=\"font-weight: bold\"> Layer (type)                    </span>┃<span style=\"font-weight: bold\"> Output Shape           </span>┃<span style=\"font-weight: bold\">       Param # </span>┃\n",
       "┡━━━━━━━━━━━━━━━━━━━━━━━━━━━━━━━━━╇━━━━━━━━━━━━━━━━━━━━━━━━╇━━━━━━━━━━━━━━━┩\n",
       "│ L1 (<span style=\"color: #0087ff; text-decoration-color: #0087ff\">Dense</span>)                      │ (<span style=\"color: #00d7ff; text-decoration-color: #00d7ff\">None</span>, <span style=\"color: #00af00; text-decoration-color: #00af00\">120</span>)            │         <span style=\"color: #00af00; text-decoration-color: #00af00\">3,960</span> │\n",
       "├─────────────────────────────────┼────────────────────────┼───────────────┤\n",
       "│ L2 (<span style=\"color: #0087ff; text-decoration-color: #0087ff\">Dense</span>)                      │ (<span style=\"color: #00d7ff; text-decoration-color: #00d7ff\">None</span>, <span style=\"color: #00af00; text-decoration-color: #00af00\">50</span>)             │         <span style=\"color: #00af00; text-decoration-color: #00af00\">6,050</span> │\n",
       "├─────────────────────────────────┼────────────────────────┼───────────────┤\n",
       "│ L3 (<span style=\"color: #0087ff; text-decoration-color: #0087ff\">Dense</span>)                      │ (<span style=\"color: #00d7ff; text-decoration-color: #00d7ff\">None</span>, <span style=\"color: #00af00; text-decoration-color: #00af00\">10</span>)             │           <span style=\"color: #00af00; text-decoration-color: #00af00\">510</span> │\n",
       "├─────────────────────────────────┼────────────────────────┼───────────────┤\n",
       "│ L4 (<span style=\"color: #0087ff; text-decoration-color: #0087ff\">Dense</span>)                      │ (<span style=\"color: #00d7ff; text-decoration-color: #00d7ff\">None</span>, <span style=\"color: #00af00; text-decoration-color: #00af00\">1</span>)              │            <span style=\"color: #00af00; text-decoration-color: #00af00\">11</span> │\n",
       "└─────────────────────────────────┴────────────────────────┴───────────────┘\n",
       "</pre>\n"
      ],
      "text/plain": [
       "┏━━━━━━━━━━━━━━━━━━━━━━━━━━━━━━━━━┳━━━━━━━━━━━━━━━━━━━━━━━━┳━━━━━━━━━━━━━━━┓\n",
       "┃\u001b[1m \u001b[0m\u001b[1mLayer (type)                   \u001b[0m\u001b[1m \u001b[0m┃\u001b[1m \u001b[0m\u001b[1mOutput Shape          \u001b[0m\u001b[1m \u001b[0m┃\u001b[1m \u001b[0m\u001b[1m      Param #\u001b[0m\u001b[1m \u001b[0m┃\n",
       "┡━━━━━━━━━━━━━━━━━━━━━━━━━━━━━━━━━╇━━━━━━━━━━━━━━━━━━━━━━━━╇━━━━━━━━━━━━━━━┩\n",
       "│ L1 (\u001b[38;5;33mDense\u001b[0m)                      │ (\u001b[38;5;45mNone\u001b[0m, \u001b[38;5;34m120\u001b[0m)            │         \u001b[38;5;34m3,960\u001b[0m │\n",
       "├─────────────────────────────────┼────────────────────────┼───────────────┤\n",
       "│ L2 (\u001b[38;5;33mDense\u001b[0m)                      │ (\u001b[38;5;45mNone\u001b[0m, \u001b[38;5;34m50\u001b[0m)             │         \u001b[38;5;34m6,050\u001b[0m │\n",
       "├─────────────────────────────────┼────────────────────────┼───────────────┤\n",
       "│ L3 (\u001b[38;5;33mDense\u001b[0m)                      │ (\u001b[38;5;45mNone\u001b[0m, \u001b[38;5;34m10\u001b[0m)             │           \u001b[38;5;34m510\u001b[0m │\n",
       "├─────────────────────────────────┼────────────────────────┼───────────────┤\n",
       "│ L4 (\u001b[38;5;33mDense\u001b[0m)                      │ (\u001b[38;5;45mNone\u001b[0m, \u001b[38;5;34m1\u001b[0m)              │            \u001b[38;5;34m11\u001b[0m │\n",
       "└─────────────────────────────────┴────────────────────────┴───────────────┘\n"
      ]
     },
     "metadata": {},
     "output_type": "display_data"
    },
    {
     "data": {
      "text/html": [
       "<pre style=\"white-space:pre;overflow-x:auto;line-height:normal;font-family:Menlo,'DejaVu Sans Mono',consolas,'Courier New',monospace\"><span style=\"font-weight: bold\"> Total params: </span><span style=\"color: #00af00; text-decoration-color: #00af00\">10,531</span> (41.14 KB)\n",
       "</pre>\n"
      ],
      "text/plain": [
       "\u001b[1m Total params: \u001b[0m\u001b[38;5;34m10,531\u001b[0m (41.14 KB)\n"
      ]
     },
     "metadata": {},
     "output_type": "display_data"
    },
    {
     "data": {
      "text/html": [
       "<pre style=\"white-space:pre;overflow-x:auto;line-height:normal;font-family:Menlo,'DejaVu Sans Mono',consolas,'Courier New',monospace\"><span style=\"font-weight: bold\"> Trainable params: </span><span style=\"color: #00af00; text-decoration-color: #00af00\">10,531</span> (41.14 KB)\n",
       "</pre>\n"
      ],
      "text/plain": [
       "\u001b[1m Trainable params: \u001b[0m\u001b[38;5;34m10,531\u001b[0m (41.14 KB)\n"
      ]
     },
     "metadata": {},
     "output_type": "display_data"
    },
    {
     "data": {
      "text/html": [
       "<pre style=\"white-space:pre;overflow-x:auto;line-height:normal;font-family:Menlo,'DejaVu Sans Mono',consolas,'Courier New',monospace\"><span style=\"font-weight: bold\"> Non-trainable params: </span><span style=\"color: #00af00; text-decoration-color: #00af00\">0</span> (0.00 B)\n",
       "</pre>\n"
      ],
      "text/plain": [
       "\u001b[1m Non-trainable params: \u001b[0m\u001b[38;5;34m0\u001b[0m (0.00 B)\n"
      ]
     },
     "metadata": {},
     "output_type": "display_data"
    }
   ],
   "source": [
    "# Neural network with multiple layers and units\n",
    "complex_mc_nn = Sequential(\n",
    "    [\n",
    "    tf.keras.Input(shape = (32,)),\n",
    "    Dense(units=120, activation='relu', name='L1'),\n",
    "    Dense(units=50, activation='sigmoid', name='L2'),\n",
    "    Dense(units=10, activation='relu', name='L3'),\n",
    "    Dense(units=1, activation='sigmoid', name='L4')\n",
    "    ], name='ComplexNN'\n",
    ")\n",
    "complex_mc_nn.summary()"
   ]
  },
  {
   "cell_type": "code",
   "execution_count": 34,
   "id": "ee78e1fa-f733-4e3b-8ef8-ea93aebe8c93",
   "metadata": {},
   "outputs": [
    {
     "name": "stdout",
     "output_type": "stream",
     "text": [
      "W1 shape is (32, 120), b1 shape is (120,)\n",
      "W2 shape is (120, 50), b2 shape is (50,)\n",
      "W3 shape is (50, 10), b3 shape is (10,)\n",
      "W4 shape is (10, 1), b4 shape is (1,)\n"
     ]
    }
   ],
   "source": [
    "# Checking dimensions of parameters w and b in each layer\n",
    "layer1, layer2, layer3, layer4 = complex_mc_nn.layers\n",
    "W1, b1 = layer1.get_weights()\n",
    "W2, b2 = layer2.get_weights()\n",
    "W3, b3 = layer3.get_weights()\n",
    "W4, b4 = layer4.get_weights()\n",
    "print(f'W1 shape is {W1.shape}, b1 shape is {b1.shape}')\n",
    "print(f'W2 shape is {W2.shape}, b2 shape is {b2.shape}')\n",
    "print(f'W3 shape is {W3.shape}, b3 shape is {b3.shape}')\n",
    "print(f'W4 shape is {W4.shape}, b4 shape is {b4.shape}')"
   ]
  },
  {
   "cell_type": "code",
   "execution_count": 35,
   "id": "439bc1e5-a08e-40e3-ae53-8f6433d8762b",
   "metadata": {},
   "outputs": [
    {
     "data": {
      "text/plain": [
       "<keras.src.callbacks.history.History at 0x1645e5fd0>"
      ]
     },
     "execution_count": 35,
     "metadata": {},
     "output_type": "execute_result"
    }
   ],
   "source": [
    "# Specify loss and fit model to training set\n",
    "complex_mc_nn.compile(\n",
    "    loss = tf.keras.losses.BinaryCrossentropy(),\n",
    "    optimizer = tf.keras.optimizers.Adam(learning_rate=0.01)\n",
    ")\n",
    "\n",
    "complex_mc_nn.fit(X_train, Y_train, epochs=500, verbose=0) "
   ]
  },
  {
   "cell_type": "code",
   "execution_count": 36,
   "id": "257c12c0-f47d-487f-a543-afed652dc51d",
   "metadata": {},
   "outputs": [
    {
     "name": "stdout",
     "output_type": "stream",
     "text": [
      "\u001b[1m54/54\u001b[0m \u001b[32m━━━━━━━━━━━━━━━━━━━━\u001b[0m\u001b[37m\u001b[0m \u001b[1m0s\u001b[0m 653us/step\n",
      "\u001b[1m7/7\u001b[0m \u001b[32m━━━━━━━━━━━━━━━━━━━━\u001b[0m\u001b[37m\u001b[0m \u001b[1m0s\u001b[0m 419us/step\n",
      "Complex neural network \n",
      "Training accuracy: 0.646, Cross-validation accuracy: 0.674\n"
     ]
    }
   ],
   "source": [
    "accs = train_and_cv_accuracy(complex_mc_nn, X_train, Y_train, X_cv, Y_cv)\n",
    "print(f'Complex neural network \\nTraining accuracy: {accs[\"Training accuracy\"][0]:0.3f}, Cross-validation accuracy: {accs[\"Cross-validation accuracy\"][0]:0.3f}')"
   ]
  },
  {
   "cell_type": "code",
   "execution_count": 37,
   "id": "a1f9b611-0e35-4104-b451-6dec26acfcc6",
   "metadata": {},
   "outputs": [
    {
     "name": "stdout",
     "output_type": "stream",
     "text": [
      "\u001b[1m54/54\u001b[0m \u001b[32m━━━━━━━━━━━━━━━━━━━━\u001b[0m\u001b[37m\u001b[0m \u001b[1m0s\u001b[0m 720us/step\n",
      "\u001b[1m7/7\u001b[0m \u001b[32m━━━━━━━━━━━━━━━━━━━━\u001b[0m\u001b[37m\u001b[0m \u001b[1m0s\u001b[0m 470us/step\n",
      "\u001b[1m54/54\u001b[0m \u001b[32m━━━━━━━━━━━━━━━━━━━━\u001b[0m\u001b[37m\u001b[0m \u001b[1m0s\u001b[0m 610us/step\n",
      "\u001b[1m7/7\u001b[0m \u001b[32m━━━━━━━━━━━━━━━━━━━━\u001b[0m\u001b[37m\u001b[0m \u001b[1m0s\u001b[0m 429us/step\n",
      "\u001b[1m54/54\u001b[0m \u001b[32m━━━━━━━━━━━━━━━━━━━━\u001b[0m\u001b[37m\u001b[0m \u001b[1m0s\u001b[0m 610us/step\n",
      "\u001b[1m7/7\u001b[0m \u001b[32m━━━━━━━━━━━━━━━━━━━━\u001b[0m\u001b[37m\u001b[0m \u001b[1m0s\u001b[0m 436us/step\n",
      "Best regularization lambda is 0.05 with cross-validation accuracy of 0.674\n"
     ]
    }
   ],
   "source": [
    "# Iterate to explore different regularization values\n",
    "lambdas = [0.001, 0.01, 0.05]\n",
    "models=[None] * len(lambdas)\n",
    "best_lambda = 0\n",
    "best_cv_acc = 0\n",
    "\n",
    "for i in range(len(lambdas)):\n",
    "    lambda_ = lambdas[i]\n",
    "    models[i] =  Sequential(\n",
    "        [\n",
    "            tf.keras.Input(shape = (32,)),\n",
    "            Dense(units=120, activation='relu', name='L1', kernel_regularizer=tf.keras.regularizers.l2(lambda_)),\n",
    "            Dense(units=50, activation='sigmoid', name='L2', kernel_regularizer=tf.keras.regularizers.l2(lambda_)),\n",
    "            Dense(units=10, activation='relu', name='L3', kernel_regularizer=tf.keras.regularizers.l2(lambda_)),\n",
    "            Dense(units=1, activation='sigmoid', name='L4')\n",
    "        ]\n",
    "    )\n",
    "    \n",
    "    models[i].compile(\n",
    "        loss=tf.keras.losses.BinaryCrossentropy(),\n",
    "        optimizer=tf.keras.optimizers.Adam(0.01),\n",
    "    )\n",
    "\n",
    "    models[i].fit(X_train, Y_train, epochs=500, verbose=0)\n",
    "    accs = train_and_cv_accuracy(models[i], X_train, Y_train, X_cv, Y_cv)\n",
    "    if accs['Cross-validation accuracy'][0] > best_cv_acc:\n",
    "        best_lambda = lambda_\n",
    "        best_cv_acc = np.round(accs['Cross-validation accuracy'][0],3)\n",
    "\n",
    "print(f'Best regularization lambda is {best_lambda} with cross-validation accuracy of {best_cv_acc}')"
   ]
  },
  {
   "cell_type": "code",
   "execution_count": null,
   "id": "ec6e4ebc-13a7-4a02-84b7-ccc5ffa21747",
   "metadata": {},
   "outputs": [],
   "source": []
  }
 ],
 "metadata": {
  "kernelspec": {
   "display_name": "Python 3 (ipykernel)",
   "language": "python",
   "name": "python3"
  },
  "language_info": {
   "codemirror_mode": {
    "name": "ipython",
    "version": 3
   },
   "file_extension": ".py",
   "mimetype": "text/x-python",
   "name": "python",
   "nbconvert_exporter": "python",
   "pygments_lexer": "ipython3",
   "version": "3.11.7"
  }
 },
 "nbformat": 4,
 "nbformat_minor": 5
}
